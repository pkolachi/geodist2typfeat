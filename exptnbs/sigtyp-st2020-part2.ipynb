{
  "nbformat": 4,
  "nbformat_minor": 0,
  "metadata": {
    "colab": {
      "name": "sigtyp-st2020-part2.ipynb",
      "provenance": [],
      "collapsed_sections": []
    },
    "kernelspec": {
      "display_name": "Python 3",
      "language": "python",
      "name": "python3"
    },
    "language_info": {
      "codemirror_mode": {
        "name": "ipython",
        "version": 3
      },
      "file_extension": ".py",
      "mimetype": "text/x-python",
      "name": "python",
      "nbconvert_exporter": "python",
      "pygments_lexer": "ipython3",
      "version": "3.8.2"
    }
  },
  "cells": [
    {
      "cell_type": "markdown",
      "metadata": {
        "colab_type": "text",
        "id": "view-in-github"
      },
      "source": [
        "<a href=\"https://colab.research.google.com/github/pkolachi/geodist2typfeat/blob/master/exptnbs/sigtyp-st2020-part2.ipynb\" target=\"_parent\"><img src=\"https://colab.research.google.com/assets/colab-badge.svg\" alt=\"Open In Colab\"/></a>"
      ]
    },
    {
      "cell_type": "code",
      "metadata": {
        "id": "Ez4odVIUGC_a",
        "colab_type": "code",
        "colab": {}
      },
      "source": [
        "%autosave 60\n",
        "%matplotlib inline\n",
        "%pylab\n",
        "\n",
        "import sys\n",
        "%pip install -q --user pandas==1.0.3 seaborn=0.10.0 scikit-learn==0.22.2.post1\n",
        "import pandas    as pd\n",
        "import seaborn   as sns\n",
        "import itertools as it\n",
        "from collections import Counter, defaultdict\n",
        "from operator    import itemgetter\n",
        "from IPython.display import display as pd_displayHTML"
      ],
      "execution_count": 0,
      "outputs": []
    },
    {
      "cell_type": "code",
      "metadata": {
        "colab_type": "code",
        "id": "ZCxI7FKnM7lK",
        "colab": {}
      },
      "source": [
        "# https://people.mpi-inf.mpg.de/~pmiettin/slides/BooleanMatrixFactorizationsForDataMining_Antwerp_slides.pdf\n",
        "# https://csustan.csustan.edu/~tom/Clustering/GraphLaplacian-tutorial.pdf\n",
        "# https://towardsdatascience.com/spectral-clustering-aba2640c0d5b \n"
      ],
      "execution_count": 0,
      "outputs": []
    },
    {
      "cell_type": "markdown",
      "metadata": {
        "id": "oL0xXNNqGC_m",
        "colab_type": "text"
      },
      "source": [
        "### Loading the dataset"
      ]
    },
    {
      "cell_type": "code",
      "metadata": {
        "id": "6fzgZ1FBGC_u",
        "colab_type": "code",
        "colab": {}
      },
      "source": [
        "fpurl   = 'https://raw.githubusercontent.com/sigtyp/ST2020/master/data/train.csv'\n",
        "# the header from the csv is not properly tab-seperated. hence hard-coding\n",
        "header  = ['wals_code', 'name', \n",
        "           'latitude', 'longitude', \n",
        "           'genus', 'family', 'countrycodes', \n",
        "           'features'\n",
        "          ]\n",
        "df = pd.read_csv(fpurl, sep='\\t', header=None, names=header,\n",
        "                 #index_col=0,\n",
        "                 error_bad_lines=True, skiprows=[0])\n",
        "missingVal, missingLbl = '*-missing-*', '*-unknown-*'\n",
        "featsFull = df.iloc[:, 0:-1]\n",
        "clablFull = df.iloc[:, -1]\n",
        "alablInst = Counter(albl for inst in clablFull for albl in inst.split('|'))\n",
        "alablTabl = pd.DataFrame([{'name': n, 'id': i, 'freq': f}\n",
        "                          for i,(n,f) in enumerate(alablInst.most_common(), start=1)\n",
        "                         ]).set_index('name')\n",
        "alablFull = pd.DataFrame([dict(albl.split('=', 1) for albl in inst.split('|'))\n",
        "                          for inst in clablFull\n",
        "                         ]).fillna(missingLbl) # fill missing values (no NaN) \n",
        "for incol in ['wals_code', 'name', 'genus', 'family', 'countrycodes']:\n",
        "  featsFull[incol] = featsFull[incol].astype('category')\n",
        "clablFull = clablFull.astype('category')\n",
        "alablFull = alablFull.astype('category')\n",
        "slablFull = pd.DataFrame([{'{0}={1}'.format(fcn, lbl): 1\n",
        "                           for fcn, lbl in row.items() if lbl != missingLbl\n",
        "                          } for row in alablFull.to_dict(orient='records')\n",
        "                         ])\n",
        "print(featsFull.shape, clablFull.shape, alablFull.shape, slablFull.shape, \n",
        "      alablTabl.shape)\n",
        "slablMat_ = slablFull "
      ],
      "execution_count": 0,
      "outputs": []
    },
    {
      "cell_type": "markdown",
      "metadata": {
        "id": "Z0ZUzDWDGC_0",
        "colab_type": "text"
      },
      "source": [
        "### Sampling"
      ]
    },
    {
      "cell_type": "code",
      "metadata": {
        "colab_type": "code",
        "id": "pUbBYtH5sZmN",
        "outputId": "d33a75ce-d1f3-4056-ca3b-bec75741ed55",
        "colab": {
          "base_uri": "https://localhost:8080/",
          "height": 34
        }
      },
      "source": [
        "N = 3\n",
        "import random\n",
        "#subsid = list(range(0, featsFull.shape[0], featsFull.shape[0]//N))[:N]\n",
        "subsid = list(sorted(random.sample(range(slablFull.shape[1]), N)))\n",
        "subfcn = set([fcn for row in slablFull.iloc[subsid,:].to_dict(orient='records') for fcn in row if row[fcn]])\n",
        "subfci = [slablFull.columns.to_list().index(fcn) for fcn in subfcn]\n",
        "subfci = list(map(itemgetter(0), sorted(zip(subfci, subfcn))))\n",
        "subfcn = [slablFull.columns[idx] for idx in subfci]\n",
        "print(len(subfci), len(subfcn))\n",
        "spsLblMat_ = slablFull.iloc[subsid,subfci]"
      ],
      "execution_count": 0,
      "outputs": [
        {
          "output_type": "stream",
          "text": [
            "62 62\n"
          ],
          "name": "stdout"
        }
      ]
    },
    {
      "cell_type": "code",
      "metadata": {
        "colab_type": "code",
        "id": "CriXDv2I2uNX",
        "colab": {}
      },
      "source": [
        "syndata = [{'l1': 1, 'l2': 1}, \n",
        "           {'l2': 1, 'l3': 1},\n",
        "           {'l4': 1, 'l5': 1},\n",
        "           {'l6': 1, 'l7': 1},\n",
        "           {'l6': 1, 'l8': 1},\n",
        "           {'l7': 1, 'l9': 1}\n",
        "          ]\n",
        "syndata = pd.DataFrame(syndata).fillna(0)\n",
        "spsLblMat_ = syndata"
      ],
      "execution_count": 0,
      "outputs": []
    },
    {
      "cell_type": "markdown",
      "metadata": {
        "id": "vlP0R8bBGDAM",
        "colab_type": "text"
      },
      "source": [
        "### Clustering labels"
      ]
    },
    {
      "cell_type": "code",
      "metadata": {
        "id": "Sx8_AbedGDAQ",
        "colab_type": "code",
        "colab": {}
      },
      "source": [
        "spsLblMat = slablMat_.to_numpy().T  # (n_labels, n_samples)\n",
        "lablComat = np.dot(spsLblMat, spsLblMat.T)\n",
        "lablFreqv = np.diag(lablComat)\n",
        "# P(l1,l2) = #S(l1,l2)/N\n",
        "lablProbs = (lablComat - np.diag(lablFreqv))/spsLblMat.shape[0] \n",
        "lablDegrs = np.diag([np.count_nonzero(row) for row in lablProbs])\n",
        "lablLapcn = lablDegrs - (lablProbs>0)\n",
        "eigvals, eigvecs = np.linalg.eig(lablLapcn)\n",
        "print(np.count_nonzero(eigvals < 1e-7))"
      ],
      "execution_count": 0,
      "outputs": []
    },
    {
      "cell_type": "code",
      "metadata": {
        "id": "84MNe1K1GDAX",
        "colab_type": "code",
        "colab": {}
      },
      "source": [
        "from sklearn.cluster import AffinityPropagation\n",
        "from sklearn.cluster import AgglomerativeClustering\n",
        "from sklearn.cluster import KMeans\n",
        "from sklearn.cluster import SpectralClustering\n",
        "\n",
        "clstnms = ['kmns', 'spectral', ]\n",
        "clstobj = [KMeans(random_state=20200408), \n",
        "           SpectralClustering(random_state=20200408),\n",
        "           AffinityPropagation(),\n",
        "           AgglomerativeClustering()\n",
        "          ]"
      ],
      "execution_count": 0,
      "outputs": []
    }
  ]
}
