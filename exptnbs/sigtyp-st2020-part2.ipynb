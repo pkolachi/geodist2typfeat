{
  "nbformat": 4,
  "nbformat_minor": 0,
  "metadata": {
    "colab": {
      "name": "sigtyp-st2020-part2.ipynb",
      "provenance": [],
      "authorship_tag": "ABX9TyOwi8Zaq8SiuMhisFTK8cn1",
      "include_colab_link": true
    },
    "kernelspec": {
      "name": "python3",
      "display_name": "Python 3"
    }
  },
  "cells": [
    {
      "cell_type": "markdown",
      "metadata": {
        "id": "view-in-github",
        "colab_type": "text"
      },
      "source": [
        "<a href=\"https://colab.research.google.com/github/pkolachi/geodist2typfeat/blob/master/exptnbs/sigtyp-st2020-part2.ipynb\" target=\"_parent\"><img src=\"https://colab.research.google.com/assets/colab-badge.svg\" alt=\"Open In Colab\"/></a>"
      ]
    },
    {
      "cell_type": "code",
      "metadata": {
        "id": "FrdQqzDra1Fq",
        "colab_type": "code",
        "colab": {}
      },
      "source": [
        "%autosave 60\n",
        "%matplotlib inline\n",
        "import sys\n",
        "!{sys.executable} -m pip install -q --user numpy pandas seaborn sklearn\n",
        "import pandas    as pd\n",
        "import seaborn   as sns\n",
        "import numpy     as np \n",
        "import itertools as it\n",
        "from collections import Counter, defaultdict\n",
        "from operator    import itemgetter\n",
        "from IPython.display import display as pd_displayHTML"
      ],
      "execution_count": 0,
      "outputs": []
    },
    {
      "cell_type": "code",
      "metadata": {
        "id": "ZCxI7FKnM7lK",
        "colab_type": "code",
        "colab": {}
      },
      "source": [
        "# https://people.mpi-inf.mpg.de/~pmiettin/slides/BooleanMatrixFactorizationsForDataMining_Antwerp_slides.pdf\n",
        "# https://csustan.csustan.edu/~tom/Clustering/GraphLaplacian-tutorial.pdf\n",
        "# https://towardsdatascience.com/spectral-clustering-aba2640c0d5b "
      ],
      "execution_count": 0,
      "outputs": []
    },
    {
      "cell_type": "code",
      "metadata": {
        "id": "GAoxQCvAhfGw",
        "colab_type": "code",
        "outputId": "a5b84507-05c2-4d21-c0f5-c91867b94254",
        "colab": {
          "base_uri": "https://localhost:8080/",
          "height": 34
        }
      },
      "source": [
        "fpurl   = 'https://raw.githubusercontent.com/sigtyp/ST2020/master/data/train.csv'\n",
        "# the header from the csv is not properly tab-seperated. hence hard-coding\n",
        "header  = ['wals_code', 'name', \n",
        "           'latitude', 'longitude', \n",
        "           'genus', 'family', 'countrycodes', \n",
        "           'features'\n",
        "          ]\n",
        "df = pd.read_csv(fpurl, sep='\\t', header=None, names=header, \n",
        "                #index_col=0, \n",
        "                 error_bad_lines=True, skiprows=[0])\n",
        "featsFull = df.iloc[:,0:-1]\n",
        "clablFull = df.iloc[:,-1]\n",
        "alablInst = Counter(albl for inst in clablFull for albl in inst.split('|'))\n",
        "alablTabl = pd.DataFrame([{'name': n, 'id': i, 'freq': f}\n",
        "                          for i,(n,f) in enumerate(alablInst.most_common())\n",
        "                         ]).set_index('name')\n",
        "alablFull = pd.DataFrame([dict(albl.split('=', 1) for albl in inst.split('|'))\n",
        "                          for inst in clablFull\n",
        "                         ])\n",
        "for incol in ['wals_code', 'name', 'genus', 'family', 'countrycodes']:\n",
        "  featsFull[incol] = featsFull[incol].astype('category')\n",
        "clablFull = clablFull.astype('category')\n",
        "alablFull = alablFull.astype('category')\n",
        "slablFull = pd.DataFrame([{'{0}={1}'.format(fcn, lbl): 1\n",
        "                           for fcn, lbl in row.items() if not pd.isna(lbl)\n",
        "                          } for row in alablFull.to_dict(orient='records')\n",
        "                         ]).fillna(0)\n",
        "print(featsFull.shape, clablFull.shape, alablFull.shape, slablFull.shape, \n",
        "      alablTabl.shape)\n",
        "slablMat_ = slablFull "
      ],
      "execution_count": 0,
      "outputs": [
        {
          "output_type": "stream",
          "text": [
            "(1125, 7) (1125,) (1125, 185) (1125, 973) (973, 2)\n"
          ],
          "name": "stdout"
        }
      ]
    },
    {
      "cell_type": "code",
      "metadata": {
        "id": "pUbBYtH5sZmN",
        "colab_type": "code",
        "outputId": "d33a75ce-d1f3-4056-ca3b-bec75741ed55",
        "colab": {
          "base_uri": "https://localhost:8080/",
          "height": 34
        }
      },
      "source": [
        "N = 3\n",
        "import random\n",
        "#subsid = list(range(0, featsFull.shape[0], featsFull.shape[0]//N))[:N]\n",
        "subsid = list(sorted(random.sample(range(slablFull.shape[1]), N)))\n",
        "subfcn = set([fcn for row in slablFull.iloc[subsid,:].to_dict(orient='records') for fcn in row if row[fcn]])\n",
        "subfci = [slablFull.columns.to_list().index(fcn) for fcn in subfcn]\n",
        "subfci = list(map(itemgetter(0), sorted(zip(subfci, subfcn))))\n",
        "subfcn = [slablFull.columns[idx] for idx in subfci]\n",
        "print(len(subfci), len(subfcn))\n",
        "spsLblMat_ = slablFull.iloc[subsid,subfci]"
      ],
      "execution_count": 0,
      "outputs": [
        {
          "output_type": "stream",
          "text": [
            "62 62\n"
          ],
          "name": "stdout"
        }
      ]
    },
    {
      "cell_type": "code",
      "metadata": {
        "id": "CriXDv2I2uNX",
        "colab_type": "code",
        "colab": {}
      },
      "source": [
        "syndata = [{'l1': 1, 'l2': 1}, \n",
        "           {'l2': 1, 'l3': 1},\n",
        "           {'l4': 1, 'l5': 1},\n",
        "           {'l6': 1, 'l7': 1},\n",
        "           {'l6': 1, 'l8': 1},\n",
        "           {'l7': 1, 'l9': 1}\n",
        "          ]\n",
        "syndata = pd.DataFrame(syndata).fillna(0)\n",
        "spsLblMat_ = syndata"
      ],
      "execution_count": 0,
      "outputs": []
    },
    {
      "cell_type": "code",
      "metadata": {
        "id": "4id8qlZUa3G2",
        "colab_type": "code",
        "outputId": "f7cb926a-c04c-4ebd-b28d-b0ea2d716cae",
        "colab": {
          "base_uri": "https://localhost:8080/",
          "height": 34
        }
      },
      "source": [
        "spsLblMat = slablMat_.to_numpy()\n",
        "lablComat = np.dot(spsLblMat.T, spsLblMat)\n",
        "lablFreqv = np.diag(lablComat)\n",
        "# P(l1,l2) = #S(l1,l2)/N\n",
        "lablProbs = (lablComat - np.diag(lablFreqv))/spsLblMat.shape[0] \n",
        "lablDegrs = np.diag([np.count_nonzero(row) for row in lablProbs])\n",
        "lablLapcn = lablDegrs - (lablProbs>0)\n",
        "eigvals, eigvecs = np.linalg.eig(lablLapcn)\n",
        "print(np.count_nonzero(eigvals < 1e-7))"
      ],
      "execution_count": 0,
      "outputs": [
        {
          "output_type": "stream",
          "text": [
            "1\n"
          ],
          "name": "stdout"
        }
      ]
    }
  ]
}